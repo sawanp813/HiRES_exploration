{
 "cells": [
  {
   "cell_type": "markdown",
   "metadata": {},
   "source": [
    "### Implementation of GCN/GAT to predict RNA-seq expression from Hi-C data"
   ]
  },
  {
   "cell_type": "code",
   "execution_count": 1,
   "metadata": {},
   "outputs": [],
   "source": [
    "import numpy as np\n",
    "import matplotlib.pyplot as plt\n",
    "from tqdm.notebook import tqdm\n",
    "\n",
    "import torch\n",
    "import torch.nn as nn\n",
    "import torch.nn.functional as F\n",
    "\n",
    "from torch_geometric.loader import DataLoader\n",
    "from torch_geometric.nn import GCNConv\n",
    "from torch_geometric.nn.models import GCN, GAT\n",
    "from torch_geometric.utils import to_dense_adj\n",
    "\n",
    "from hires_dataset import HiRESDataset"
   ]
  },
  {
   "cell_type": "markdown",
   "metadata": {},
   "source": [
    "## GCN Model"
   ]
  },
  {
   "cell_type": "code",
   "execution_count": 2,
   "metadata": {},
   "outputs": [],
   "source": [
    "class GraphModel(torch.nn.Module):\n",
    "    def __init__(self, input_features, hidden_channels, num_layers, mlp_layers, model_type=\"gcn\"):\n",
    "        super().__init__()\n",
    "        self.input_features = input_features\n",
    "        if model_type == \"gcn\":\n",
    "            model_type = GCN\n",
    "        elif model_type == \"gat\":\n",
    "            model_type = GAT\n",
    "        else:\n",
    "            raise NotImplementedError(\"Only allowed models are `gcn` and `gat`\")\n",
    "\n",
    "        self.graph_model = model_type(\n",
    "            in_channels=input_features,\n",
    "            hidden_channels=hidden_channels,\n",
    "            num_layers=num_layers\n",
    "        ).type(torch.float32)\n",
    "\n",
    "        self.mlp = nn.ModuleList()\n",
    "        for i, size in enumerate(mlp_layers[:-1]):\n",
    "            self.mlp.append(nn.LazyLinear(size))\n",
    "            self.mlp.append(nn.ReLU())\n",
    "            self.mlp.append(nn.Dropout(0.2))\n",
    "        self.mlp.append(torch.nn.LazyLinear(mlp_layers[-1]))\n",
    "\n",
    "    def forward(self, batch):\n",
    "        x = batch.x.float()\n",
    "        if len(x.shape) < 2:\n",
    "            x = x.reshape(-1, 1)\n",
    "        x = self.graph_model(x, batch.edge_index, batch.edge_attr.float())\n",
    "        x = x.reshape(batch.batch_size, -1)  # B*IC x HC -> B x (ICxHC)\n",
    "\n",
    "        for layer in self.mlp:\n",
    "            x = layer(x)\n",
    "        return x"
   ]
  },
  {
   "cell_type": "code",
   "execution_count": 3,
   "metadata": {},
   "outputs": [],
   "source": [
    "def forward_pass(model, batch, criterion, mask, device):\n",
    "    # forward pass\n",
    "    out = model(batch.to(device))\n",
    "\n",
    "    # prepare labels\n",
    "    labels = batch.y.reshape(batch.batch_size, -1).type(torch.float32)\n",
    "    labels = torch.masked_select(labels, gene_mask.to(device)).reshape(-1, out.shape[1])\n",
    "    labels = (labels + 1).log()\n",
    "\n",
    "    # compute loss\n",
    "    return criterion(out, labels)\n",
    "\n",
    "\n",
    "def train(model, dataloader, optimizer, criterion, mask, device):\n",
    "    total_loss = 0\n",
    "    \n",
    "    model.train()\n",
    "    for i, batch in enumerate(tqdm(dataloader)):    \n",
    "        # compute loss\n",
    "        loss = forward_pass(model, batch, criterion, mask, device)    \n",
    "        \n",
    "        # compute gradients and update weights\n",
    "        loss.backward()\n",
    "        optimizer.step()\n",
    "        optimizer.zero_grad()\n",
    "\n",
    "        total_loss += loss\n",
    "\n",
    "    return total_loss.item() / len(dataloader)\n",
    "\n",
    "def test(model, dataloader, criterion, mask, device):\n",
    "    total_loss = 0\n",
    "\n",
    "    model.eval()\n",
    "    for i, batch in enumerate(tqdm(dataloader)):\n",
    "        loss = forward_pass(model, batch, criterion, mask, device)\n",
    "        total_loss += loss\n",
    "\n",
    "    return total_loss.item() / len(dataloader)"
   ]
  },
  {
   "cell_type": "markdown",
   "metadata": {},
   "source": [
    "## Load Data"
   ]
  },
  {
   "cell_type": "code",
   "execution_count": 6,
   "metadata": {},
   "outputs": [],
   "source": [
    "CHR = 17\n",
    "RESOLUTION = \"1Mb\"\n",
    "data = HiRESDataset(\n",
    "    root=\"/nfs/turbo/dcmb-class/bioinf593/groups/group_08/datasets/embryos/\",\n",
    "    raw_filename=f\"embryos_dataset_{RESOLUTION}_chr{CHR}_observed_time-all_.pt\",  #\"embryos_dataset_1Mb_['chr6', 'chr11', 'chr17']_observed_time-all_stringdb-100.pt\",  #\n",
    "    processed_filename=f\"embryos_dataset_{RESOLUTION}_chr{CHR}_observed_time-all_processed.pt\"  # \"embryos_combined_100_processed.pt\"\n",
    ")  "
   ]
  },
  {
   "cell_type": "code",
   "execution_count": 15,
   "metadata": {},
   "outputs": [],
   "source": [
    "train_split = 0.8\n",
    "split_idx = int(train_split * len(data))\n",
    "train_data, val_data = data[:split_idx], data[split_idx:]\n",
    "\n",
    "BATCH_SIZE = 4\n",
    "train_dataloader = DataLoader(train_data, batch_size=BATCH_SIZE, drop_last=True)\n",
    "val_dataloader = DataLoader(val_data, batch_size=BATCH_SIZE, drop_last=True)"
   ]
  },
  {
   "cell_type": "markdown",
   "metadata": {},
   "source": [
    "### Construct gene mask"
   ]
  },
  {
   "cell_type": "code",
   "execution_count": 17,
   "metadata": {},
   "outputs": [
    {
     "name": "stdout",
     "output_type": "stream",
     "text": [
      "tensor([ 323,  765,  120, 1975,  137, 1729, 1588,  167,  333,  367])\n"
     ]
    }
   ],
   "source": [
    "# get top NUM_GENES expressed genes\n",
    "NUM_GENES = len(data[0].y)\n",
    "\n",
    "if CHR == 3:\n",
    "    mask = torch.tensor([1908,  184, 2407,  217, 2312, 1875, 1920, 2098, 2391, 1992])  # hardcode for chr3\n",
    "elif CHR == 6:\n",
    "    mask = torch.tensor([1669,  445,  480, 2049,  371, 1635, 2232,  307, 2191, 1878])  # hardcode for chr6\n",
    "elif CHR == 17:\n",
    "    mask = torch.tensor([ 323,  765,  120, 1975,  137, 1729, 1588,  167,  333,  367])  # hardcode for chr17\n",
    "else:\n",
    "    avg_exp = torch.zeros(len(data[0].y))\n",
    "    for sample in data:\n",
    "        avg_exp += sample.y\n",
    "    avg_exp = avg_exp / len(data)\n",
    "    mask = avg_exp.argsort(descending=True)[0:NUM_GENES]\n",
    "# mask = None\n",
    "print(mask)\n",
    "\n",
    "gene_mask = torch.zeros((1, len(data[0].y)), dtype=bool)\n",
    "gene_mask[0, mask] = True"
   ]
  },
  {
   "cell_type": "markdown",
   "metadata": {},
   "source": [
    "## Instantiate model and optimizer/criterion"
   ]
  },
  {
   "cell_type": "code",
   "execution_count": 18,
   "metadata": {},
   "outputs": [
    {
     "name": "stdout",
     "output_type": "stream",
     "text": [
      "GraphModel(\n",
      "  (graph_model): GCN(1, 32, num_layers=5)\n",
      "  (mlp): ModuleList(\n",
      "    (0): LazyLinear(in_features=0, out_features=1024, bias=True)\n",
      "    (1): ReLU()\n",
      "    (2): Dropout(p=0.2, inplace=False)\n",
      "    (3): LazyLinear(in_features=0, out_features=512, bias=True)\n",
      "    (4): ReLU()\n",
      "    (5): Dropout(p=0.2, inplace=False)\n",
      "    (6): LazyLinear(in_features=0, out_features=128, bias=True)\n",
      "    (7): ReLU()\n",
      "    (8): Dropout(p=0.2, inplace=False)\n",
      "    (9): LazyLinear(in_features=0, out_features=2142, bias=True)\n",
      "  )\n",
      ")\n",
      "cuda:0\n"
     ]
    },
    {
     "name": "stderr",
     "output_type": "stream",
     "text": [
      "/home/aakashdp/.local/lib/python3.9/site-packages/torch/nn/modules/lazy.py:180: UserWarning: Lazy modules are a new feature under heavy development so changes to the API or functionality can happen at any moment.\n",
      "  warnings.warn('Lazy modules are a new feature under heavy development '\n"
     ]
    }
   ],
   "source": [
    "device = torch.device(\"cuda:0\") if torch.cuda.is_available() else torch.device(\"cpu\")\n",
    "\n",
    "HIDDEN_DIM = 32\n",
    "NUM_LAYERS = 5\n",
    "\n",
    "MLP_HIDDEN_DIMS = [1024, 512, 128, NUM_GENES]\n",
    "MODEL_TYPE = \"gcn\"\n",
    "\n",
    "model = GraphModel(1, HIDDEN_DIM, NUM_LAYERS, MLP_HIDDEN_DIMS, MODEL_TYPE)\n",
    "model = model.to(device)\n",
    "print(model)\n",
    "print(device)"
   ]
  },
  {
   "cell_type": "code",
   "execution_count": 10,
   "metadata": {},
   "outputs": [],
   "source": [
    "LR = 0.0001\n",
    "optimizer = torch.optim.Adam(model.parameters(), lr=LR)\n",
    "criterion = torch.nn.MSELoss()"
   ]
  },
  {
   "cell_type": "markdown",
   "metadata": {},
   "source": [
    "# Train Model"
   ]
  },
  {
   "cell_type": "code",
   "execution_count": null,
   "metadata": {},
   "outputs": [],
   "source": [
    "print(f\"Training on {device}\")\n",
    "train_loss = []\n",
    "val_loss = []\n",
    "\n",
    "# print(\"Evaluating baseline\")\n",
    "# train_loss.append(test(model, train_dataloader, criterion, gene_mask, device))\n",
    "# val_loss.append(test(model, val_dataloader, criterion, gene_mask, device))\n",
    "print(\"Training...\")\n",
    "\n",
    "NUM_EPOCHS = 20\n",
    "\n",
    "for epoch in range(NUM_EPOCHS):\n",
    "    train_loss.append(train(model, train_dataloader, optimizer, criterion, gene_mask, device))\n",
    "    vloss = test(model, val_dataloader, criterion, gene_mask, device)\n",
    "    val_loss.append(vloss)\n",
    "    print(f\"Epoch {epoch+1}\\tTrain Loss = {train_loss[-1]:.6f} Val Loss = {val_loss[-1]:.6f}\")"
   ]
  },
  {
   "cell_type": "code",
   "execution_count": 10,
   "metadata": {},
   "outputs": [],
   "source": [
    "SAVE_PATH = f\"models/combined_{MODEL_TYPE}_epoch_{epoch+1}_loss_{vloss:.4f}.pt\"\n",
    "torch.save(model.state_dict(), SAVE_PATH)"
   ]
  },
  {
   "cell_type": "markdown",
   "metadata": {},
   "source": [
    "# Plot Results"
   ]
  },
  {
   "cell_type": "code",
   "execution_count": 11,
   "metadata": {},
   "outputs": [
    {
     "data": {
      "text/plain": [
       "<matplotlib.legend.Legend at 0x147521d561c0>"
      ]
     },
     "execution_count": 11,
     "metadata": {},
     "output_type": "execute_result"
    },
    {
     "data": {
      "image/png": "[encoded data removed]",
      "text/plain": [
       "<Figure size 432x288 with 1 Axes>"
      ]
     },
     "metadata": {
      "needs_background": "light"
     },
     "output_type": "display_data"
    }
   ],
   "source": [
    "plt.figure(figsize=(6, 4))\n",
    "plt.title(f\"Differentiation Gene Prediction\")\n",
    "plt.plot(train_loss, label=\"Training\")\n",
    "plt.plot(val_loss, label=\"Validation\")\n",
    "plt.xlabel(\"Epoch\")\n",
    "plt.ylabel(\"MSE Loss\")\n",
    "plt.legend()\n",
    "# plt.savefig(f\"figures/training_figures/combined_diff_gene_{MODEL_TYPE}.png\")"
   ]
  },
  {
   "cell_type": "code",
   "execution_count": 12,
   "metadata": {},
   "outputs": [],
   "source": [
    "torch.save({\"train_loss\": train_loss, \"val_loss\": val_loss}, f\"figures/training_losses/combined_diff_gene_{MODEL_TYPE}_losses.pt\")"
   ]
  },
  {
   "cell_type": "markdown",
   "metadata": {},
   "source": [
    "# Predict on sample"
   ]
  },
  {
   "cell_type": "code",
   "execution_count": 47,
   "metadata": {},
   "outputs": [],
   "source": [
    "test_dataloader = DataLoader([data[6008], data[6001], data[6002]], batch_size=1, shuffle=False)"
   ]
  },
  {
   "cell_type": "code",
   "execution_count": 42,
   "metadata": {},
   "outputs": [],
   "source": [
    "model = model.to(device)\n",
    "model.eval();"
   ]
  },
  {
   "cell_type": "code",
   "execution_count": 61,
   "metadata": {},
   "outputs": [],
   "source": [
    "preds = []\n",
    "for batch in test_dataloader:\n",
    "    pred = model(batch.to(device))\n",
    "    preds.append((pred.exp() - 1).detach().cpu())"
   ]
  },
  {
   "cell_type": "code",
   "execution_count": 62,
   "metadata": {},
   "outputs": [],
   "source": [
    "torch.save(preds, \"recon_rnaseq.pt\")"
   ]
  },
  {
   "cell_type": "code",
   "execution_count": 63,
   "metadata": {},
   "outputs": [
    {
     "data": {
      "text/plain": [
       "<matplotlib.image.AxesImage at 0x147520fa5370>"
      ]
     },
     "execution_count": 63,
     "metadata": {},
     "output_type": "execute_result"
    },
    {
     "data": {
      "image/png": "[encoded data removed]",
      "text/plain": [
       "<Figure size 432x288 with 2 Axes>"
      ]
     },
     "metadata": {
      "needs_background": "light"
     },
     "output_type": "display_data"
    }
   ],
   "source": [
    "fig, ax = plt.subplots(1, 2)\n",
    "ax[0].imshow(data[6001].y.reshape(-1, 1))\n",
    "ax[1].imshow(preds[1].detach().cpu().reshape(-1, 1))"
   ]
  }
 ],
 "metadata": {
  "kernelspec": {
   "display_name": "base",
   "language": "python",
   "name": "python3"
  },
  "language_info": {
   "codemirror_mode": {
    "name": "ipython",
    "version": 3
   },
   "file_extension": ".py",
   "mimetype": "text/x-python",
   "name": "python",
   "nbconvert_exporter": "python",
   "pygments_lexer": "ipython3",
   "version": "3.11.5"
  },
  "orig_nbformat": 4,
  "vscode": {
   "interpreter": {
    "hash": "3d640762a30aa107e3ef8edb5155f89bb0fa7043f11b91a52d0500674fcb9c16"
   }
  }
 },
 "nbformat": 4,
 "nbformat_minor": 2
}
